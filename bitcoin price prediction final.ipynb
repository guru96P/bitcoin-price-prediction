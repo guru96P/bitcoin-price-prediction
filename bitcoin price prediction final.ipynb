{
 "cells": [
  {
   "cell_type": "code",
   "execution_count": 40,
   "id": "51a19061",
   "metadata": {
    "colab": {
     "base_uri": "https://localhost:8080/"
    },
    "id": "51a19061",
    "outputId": "eee2cb7b-b0ba-4487-a173-94a9398ca609"
   },
   "outputs": [
    {
     "name": "stdout",
     "output_type": "stream",
     "text": [
      "Requirement already satisfied: yfinance in c:\\users\\adminpc\\anaconda3\\lib\\site-packages (0.2.9)\n",
      "Requirement already satisfied: pytz>=2022.5 in c:\\users\\adminpc\\anaconda3\\lib\\site-packages (from yfinance) (2022.7.1)\n",
      "Requirement already satisfied: cryptography>=3.3.2 in c:\\users\\adminpc\\anaconda3\\lib\\site-packages (from yfinance) (3.4.8)\n",
      "Requirement already satisfied: beautifulsoup4>=4.11.1 in c:\\users\\adminpc\\anaconda3\\lib\\site-packages (from yfinance) (4.11.1)\n",
      "Requirement already satisfied: numpy>=1.16.5 in c:\\users\\adminpc\\anaconda3\\lib\\site-packages (from yfinance) (1.22.4)\n",
      "Requirement already satisfied: appdirs>=1.4.4 in c:\\users\\adminpc\\anaconda3\\lib\\site-packages (from yfinance) (1.4.4)\n",
      "Requirement already satisfied: requests>=2.26 in c:\\users\\adminpc\\anaconda3\\lib\\site-packages (from yfinance) (2.27.1)\n",
      "Requirement already satisfied: frozendict>=2.3.4 in c:\\users\\adminpc\\anaconda3\\lib\\site-packages (from yfinance) (2.3.4)\n",
      "Requirement already satisfied: html5lib>=1.1 in c:\\users\\adminpc\\anaconda3\\lib\\site-packages (from yfinance) (1.1)\n",
      "Requirement already satisfied: multitasking>=0.0.7 in c:\\users\\adminpc\\anaconda3\\lib\\site-packages (from yfinance) (0.0.11)\n",
      "Requirement already satisfied: pandas>=1.3.0 in c:\\users\\adminpc\\anaconda3\\lib\\site-packages (from yfinance) (1.4.2)\n",
      "Requirement already satisfied: lxml>=4.9.1 in c:\\users\\adminpc\\anaconda3\\lib\\site-packages (from yfinance) (4.9.2)\n",
      "Requirement already satisfied: soupsieve>1.2 in c:\\users\\adminpc\\anaconda3\\lib\\site-packages (from beautifulsoup4>=4.11.1->yfinance) (2.3.1)\n",
      "Requirement already satisfied: cffi>=1.12 in c:\\users\\adminpc\\anaconda3\\lib\\site-packages (from cryptography>=3.3.2->yfinance) (1.15.0)\n",
      "Requirement already satisfied: webencodings in c:\\users\\adminpc\\anaconda3\\lib\\site-packages (from html5lib>=1.1->yfinance) (0.5.1)\n",
      "Requirement already satisfied: six>=1.9 in c:\\users\\adminpc\\anaconda3\\lib\\site-packages (from html5lib>=1.1->yfinance) (1.16.0)\n",
      "Requirement already satisfied: python-dateutil>=2.8.1 in c:\\users\\adminpc\\anaconda3\\lib\\site-packages (from pandas>=1.3.0->yfinance) (2.8.2)\n",
      "Requirement already satisfied: urllib3<1.27,>=1.21.1 in c:\\users\\adminpc\\anaconda3\\lib\\site-packages (from requests>=2.26->yfinance) (1.26.9)\n",
      "Requirement already satisfied: idna<4,>=2.5 in c:\\users\\adminpc\\anaconda3\\lib\\site-packages (from requests>=2.26->yfinance) (3.3)\n",
      "Requirement already satisfied: charset-normalizer~=2.0.0 in c:\\users\\adminpc\\anaconda3\\lib\\site-packages (from requests>=2.26->yfinance) (2.0.4)\n",
      "Requirement already satisfied: certifi>=2017.4.17 in c:\\users\\adminpc\\anaconda3\\lib\\site-packages (from requests>=2.26->yfinance) (2021.10.8)\n",
      "Requirement already satisfied: pycparser in c:\\users\\adminpc\\anaconda3\\lib\\site-packages (from cffi>=1.12->cryptography>=3.3.2->yfinance) (2.21)\n"
     ]
    }
   ],
   "source": [
    "!pip install yfinance"
   ]
  },
  {
   "cell_type": "markdown",
   "id": "48dd43ac",
   "metadata": {},
   "source": [
    "# importing libraries "
   ]
  },
  {
   "cell_type": "code",
   "execution_count": 41,
   "id": "388f0a81",
   "metadata": {
    "id": "388f0a81"
   },
   "outputs": [],
   "source": [
    "import yfinance as yf\n",
    "import numpy as np\n",
    "import pandas as pd\n",
    "import matplotlib.pyplot as plt\n",
    "from sklearn.model_selection import train_test_split\n",
    "from sklearn.ensemble import RandomForestRegressor\n",
    "from sklearn import tree\n",
    "from sklearn import metrics\n",
    "from sklearn.neighbors import KNeighborsRegressor\n",
    "from sklearn.ensemble import GradientBoostingRegressor\n",
    "import warnings\n",
    "warnings.filterwarnings(\"ignore\")"
   ]
  },
  {
   "cell_type": "markdown",
   "id": "dc9ced5a",
   "metadata": {},
   "source": [
    "\n",
    "# importing the data from yahoofinance"
   ]
  },
  {
   "cell_type": "code",
   "execution_count": 42,
   "id": "db3e25b3",
   "metadata": {
    "id": "db3e25b3"
   },
   "outputs": [],
   "source": [
    "# Get the data\n",
    "btc= yf.Ticker(\"BTC-USD\")\n",
    "df = btc.history(period=\"max\")"
   ]
  },
  {
   "cell_type": "markdown",
   "id": "4b9db537",
   "metadata": {},
   "source": [
    "## Exploratory Data Anaysis(EDA)"
   ]
  },
  {
   "cell_type": "code",
   "execution_count": 43,
   "id": "c4f21aa1",
   "metadata": {},
   "outputs": [
    {
     "data": {
      "text/html": [
       "<div>\n",
       "<style scoped>\n",
       "    .dataframe tbody tr th:only-of-type {\n",
       "        vertical-align: middle;\n",
       "    }\n",
       "\n",
       "    .dataframe tbody tr th {\n",
       "        vertical-align: top;\n",
       "    }\n",
       "\n",
       "    .dataframe thead th {\n",
       "        text-align: right;\n",
       "    }\n",
       "</style>\n",
       "<table border=\"1\" class=\"dataframe\">\n",
       "  <thead>\n",
       "    <tr style=\"text-align: right;\">\n",
       "      <th></th>\n",
       "      <th>Open</th>\n",
       "      <th>High</th>\n",
       "      <th>Low</th>\n",
       "      <th>Close</th>\n",
       "      <th>Volume</th>\n",
       "      <th>Dividends</th>\n",
       "      <th>Stock Splits</th>\n",
       "    </tr>\n",
       "    <tr>\n",
       "      <th>Date</th>\n",
       "      <th></th>\n",
       "      <th></th>\n",
       "      <th></th>\n",
       "      <th></th>\n",
       "      <th></th>\n",
       "      <th></th>\n",
       "      <th></th>\n",
       "    </tr>\n",
       "  </thead>\n",
       "  <tbody>\n",
       "    <tr>\n",
       "      <th>2014-09-17 00:00:00+00:00</th>\n",
       "      <td>465.864014</td>\n",
       "      <td>468.174011</td>\n",
       "      <td>452.421997</td>\n",
       "      <td>457.334015</td>\n",
       "      <td>21056800</td>\n",
       "      <td>0.0</td>\n",
       "      <td>0.0</td>\n",
       "    </tr>\n",
       "    <tr>\n",
       "      <th>2014-09-18 00:00:00+00:00</th>\n",
       "      <td>456.859985</td>\n",
       "      <td>456.859985</td>\n",
       "      <td>413.104004</td>\n",
       "      <td>424.440002</td>\n",
       "      <td>34483200</td>\n",
       "      <td>0.0</td>\n",
       "      <td>0.0</td>\n",
       "    </tr>\n",
       "    <tr>\n",
       "      <th>2014-09-19 00:00:00+00:00</th>\n",
       "      <td>424.102997</td>\n",
       "      <td>427.834991</td>\n",
       "      <td>384.532013</td>\n",
       "      <td>394.795990</td>\n",
       "      <td>37919700</td>\n",
       "      <td>0.0</td>\n",
       "      <td>0.0</td>\n",
       "    </tr>\n",
       "    <tr>\n",
       "      <th>2014-09-20 00:00:00+00:00</th>\n",
       "      <td>394.673004</td>\n",
       "      <td>423.295990</td>\n",
       "      <td>389.882996</td>\n",
       "      <td>408.903992</td>\n",
       "      <td>36863600</td>\n",
       "      <td>0.0</td>\n",
       "      <td>0.0</td>\n",
       "    </tr>\n",
       "    <tr>\n",
       "      <th>2014-09-21 00:00:00+00:00</th>\n",
       "      <td>408.084991</td>\n",
       "      <td>412.425995</td>\n",
       "      <td>393.181000</td>\n",
       "      <td>398.821014</td>\n",
       "      <td>26580100</td>\n",
       "      <td>0.0</td>\n",
       "      <td>0.0</td>\n",
       "    </tr>\n",
       "  </tbody>\n",
       "</table>\n",
       "</div>"
      ],
      "text/plain": [
       "                                 Open        High         Low       Close  \\\n",
       "Date                                                                        \n",
       "2014-09-17 00:00:00+00:00  465.864014  468.174011  452.421997  457.334015   \n",
       "2014-09-18 00:00:00+00:00  456.859985  456.859985  413.104004  424.440002   \n",
       "2014-09-19 00:00:00+00:00  424.102997  427.834991  384.532013  394.795990   \n",
       "2014-09-20 00:00:00+00:00  394.673004  423.295990  389.882996  408.903992   \n",
       "2014-09-21 00:00:00+00:00  408.084991  412.425995  393.181000  398.821014   \n",
       "\n",
       "                             Volume  Dividends  Stock Splits  \n",
       "Date                                                          \n",
       "2014-09-17 00:00:00+00:00  21056800        0.0           0.0  \n",
       "2014-09-18 00:00:00+00:00  34483200        0.0           0.0  \n",
       "2014-09-19 00:00:00+00:00  37919700        0.0           0.0  \n",
       "2014-09-20 00:00:00+00:00  36863600        0.0           0.0  \n",
       "2014-09-21 00:00:00+00:00  26580100        0.0           0.0  "
      ]
     },
     "execution_count": 43,
     "metadata": {},
     "output_type": "execute_result"
    }
   ],
   "source": [
    "df.head()"
   ]
  },
  {
   "cell_type": "code",
   "execution_count": 44,
   "id": "b358c9d3",
   "metadata": {
    "scrolled": true
   },
   "outputs": [
    {
     "data": {
      "text/html": [
       "<div>\n",
       "<style scoped>\n",
       "    .dataframe tbody tr th:only-of-type {\n",
       "        vertical-align: middle;\n",
       "    }\n",
       "\n",
       "    .dataframe tbody tr th {\n",
       "        vertical-align: top;\n",
       "    }\n",
       "\n",
       "    .dataframe thead th {\n",
       "        text-align: right;\n",
       "    }\n",
       "</style>\n",
       "<table border=\"1\" class=\"dataframe\">\n",
       "  <thead>\n",
       "    <tr style=\"text-align: right;\">\n",
       "      <th></th>\n",
       "      <th>Open</th>\n",
       "      <th>High</th>\n",
       "      <th>Low</th>\n",
       "      <th>Close</th>\n",
       "      <th>Volume</th>\n",
       "      <th>Dividends</th>\n",
       "      <th>Stock Splits</th>\n",
       "    </tr>\n",
       "    <tr>\n",
       "      <th>Date</th>\n",
       "      <th></th>\n",
       "      <th></th>\n",
       "      <th></th>\n",
       "      <th></th>\n",
       "      <th></th>\n",
       "      <th></th>\n",
       "      <th></th>\n",
       "    </tr>\n",
       "  </thead>\n",
       "  <tbody>\n",
       "    <tr>\n",
       "      <th>2023-02-09 00:00:00+00:00</th>\n",
       "      <td>22946.566406</td>\n",
       "      <td>22996.437500</td>\n",
       "      <td>21773.974609</td>\n",
       "      <td>21819.039062</td>\n",
       "      <td>32572572185</td>\n",
       "      <td>0.0</td>\n",
       "      <td>0.0</td>\n",
       "    </tr>\n",
       "    <tr>\n",
       "      <th>2023-02-10 00:00:00+00:00</th>\n",
       "      <td>21819.005859</td>\n",
       "      <td>21941.185547</td>\n",
       "      <td>21539.392578</td>\n",
       "      <td>21651.183594</td>\n",
       "      <td>27078406594</td>\n",
       "      <td>0.0</td>\n",
       "      <td>0.0</td>\n",
       "    </tr>\n",
       "    <tr>\n",
       "      <th>2023-02-11 00:00:00+00:00</th>\n",
       "      <td>21651.841797</td>\n",
       "      <td>21891.410156</td>\n",
       "      <td>21618.449219</td>\n",
       "      <td>21870.875000</td>\n",
       "      <td>16356226232</td>\n",
       "      <td>0.0</td>\n",
       "      <td>0.0</td>\n",
       "    </tr>\n",
       "    <tr>\n",
       "      <th>2023-02-12 00:00:00+00:00</th>\n",
       "      <td>21870.902344</td>\n",
       "      <td>22060.994141</td>\n",
       "      <td>21682.828125</td>\n",
       "      <td>21788.203125</td>\n",
       "      <td>17821046406</td>\n",
       "      <td>0.0</td>\n",
       "      <td>0.0</td>\n",
       "    </tr>\n",
       "    <tr>\n",
       "      <th>2023-02-13 00:00:00+00:00</th>\n",
       "      <td>21795.058594</td>\n",
       "      <td>21892.888672</td>\n",
       "      <td>21705.009766</td>\n",
       "      <td>21751.298828</td>\n",
       "      <td>20209754112</td>\n",
       "      <td>0.0</td>\n",
       "      <td>0.0</td>\n",
       "    </tr>\n",
       "  </tbody>\n",
       "</table>\n",
       "</div>"
      ],
      "text/plain": [
       "                                   Open          High           Low  \\\n",
       "Date                                                                  \n",
       "2023-02-09 00:00:00+00:00  22946.566406  22996.437500  21773.974609   \n",
       "2023-02-10 00:00:00+00:00  21819.005859  21941.185547  21539.392578   \n",
       "2023-02-11 00:00:00+00:00  21651.841797  21891.410156  21618.449219   \n",
       "2023-02-12 00:00:00+00:00  21870.902344  22060.994141  21682.828125   \n",
       "2023-02-13 00:00:00+00:00  21795.058594  21892.888672  21705.009766   \n",
       "\n",
       "                                  Close       Volume  Dividends  Stock Splits  \n",
       "Date                                                                           \n",
       "2023-02-09 00:00:00+00:00  21819.039062  32572572185        0.0           0.0  \n",
       "2023-02-10 00:00:00+00:00  21651.183594  27078406594        0.0           0.0  \n",
       "2023-02-11 00:00:00+00:00  21870.875000  16356226232        0.0           0.0  \n",
       "2023-02-12 00:00:00+00:00  21788.203125  17821046406        0.0           0.0  \n",
       "2023-02-13 00:00:00+00:00  21751.298828  20209754112        0.0           0.0  "
      ]
     },
     "execution_count": 44,
     "metadata": {},
     "output_type": "execute_result"
    }
   ],
   "source": [
    "df.tail()"
   ]
  },
  {
   "cell_type": "code",
   "execution_count": 47,
   "id": "j2TvcpzBNiXa",
   "metadata": {
    "id": "j2TvcpzBNiXa"
   },
   "outputs": [
    {
     "data": {
      "text/plain": [
       "(3072, 7)"
      ]
     },
     "execution_count": 47,
     "metadata": {},
     "output_type": "execute_result"
    }
   ],
   "source": [
    "df.shape"
   ]
  },
  {
   "cell_type": "code",
   "execution_count": 48,
   "id": "c06ebb28",
   "metadata": {},
   "outputs": [
    {
     "name": "stdout",
     "output_type": "stream",
     "text": [
      "<class 'pandas.core.frame.DataFrame'>\n",
      "DatetimeIndex: 3072 entries, 2014-09-17 00:00:00+00:00 to 2023-02-13 00:00:00+00:00\n",
      "Data columns (total 7 columns):\n",
      " #   Column        Non-Null Count  Dtype  \n",
      "---  ------        --------------  -----  \n",
      " 0   Open          3072 non-null   float64\n",
      " 1   High          3072 non-null   float64\n",
      " 2   Low           3072 non-null   float64\n",
      " 3   Close         3072 non-null   float64\n",
      " 4   Volume        3072 non-null   int64  \n",
      " 5   Dividends     3072 non-null   float64\n",
      " 6   Stock Splits  3072 non-null   float64\n",
      "dtypes: float64(6), int64(1)\n",
      "memory usage: 192.0 KB\n"
     ]
    }
   ],
   "source": [
    "df.info()"
   ]
  },
  {
   "cell_type": "code",
   "execution_count": 49,
   "id": "a79ef560",
   "metadata": {
    "scrolled": true
   },
   "outputs": [
    {
     "data": {
      "text/html": [
       "<div>\n",
       "<style scoped>\n",
       "    .dataframe tbody tr th:only-of-type {\n",
       "        vertical-align: middle;\n",
       "    }\n",
       "\n",
       "    .dataframe tbody tr th {\n",
       "        vertical-align: top;\n",
       "    }\n",
       "\n",
       "    .dataframe thead th {\n",
       "        text-align: right;\n",
       "    }\n",
       "</style>\n",
       "<table border=\"1\" class=\"dataframe\">\n",
       "  <thead>\n",
       "    <tr style=\"text-align: right;\">\n",
       "      <th></th>\n",
       "      <th>Close</th>\n",
       "    </tr>\n",
       "    <tr>\n",
       "      <th>Date</th>\n",
       "      <th></th>\n",
       "    </tr>\n",
       "  </thead>\n",
       "  <tbody>\n",
       "    <tr>\n",
       "      <th>2014-09-17 00:00:00+00:00</th>\n",
       "      <td>457.334015</td>\n",
       "    </tr>\n",
       "    <tr>\n",
       "      <th>2014-09-18 00:00:00+00:00</th>\n",
       "      <td>424.440002</td>\n",
       "    </tr>\n",
       "    <tr>\n",
       "      <th>2014-09-19 00:00:00+00:00</th>\n",
       "      <td>394.795990</td>\n",
       "    </tr>\n",
       "    <tr>\n",
       "      <th>2014-09-20 00:00:00+00:00</th>\n",
       "      <td>408.903992</td>\n",
       "    </tr>\n",
       "    <tr>\n",
       "      <th>2014-09-21 00:00:00+00:00</th>\n",
       "      <td>398.821014</td>\n",
       "    </tr>\n",
       "    <tr>\n",
       "      <th>...</th>\n",
       "      <td>...</td>\n",
       "    </tr>\n",
       "    <tr>\n",
       "      <th>2023-02-09 00:00:00+00:00</th>\n",
       "      <td>21819.039062</td>\n",
       "    </tr>\n",
       "    <tr>\n",
       "      <th>2023-02-10 00:00:00+00:00</th>\n",
       "      <td>21651.183594</td>\n",
       "    </tr>\n",
       "    <tr>\n",
       "      <th>2023-02-11 00:00:00+00:00</th>\n",
       "      <td>21870.875000</td>\n",
       "    </tr>\n",
       "    <tr>\n",
       "      <th>2023-02-12 00:00:00+00:00</th>\n",
       "      <td>21788.203125</td>\n",
       "    </tr>\n",
       "    <tr>\n",
       "      <th>2023-02-13 00:00:00+00:00</th>\n",
       "      <td>21751.298828</td>\n",
       "    </tr>\n",
       "  </tbody>\n",
       "</table>\n",
       "<p>3072 rows × 1 columns</p>\n",
       "</div>"
      ],
      "text/plain": [
       "                                  Close\n",
       "Date                                   \n",
       "2014-09-17 00:00:00+00:00    457.334015\n",
       "2014-09-18 00:00:00+00:00    424.440002\n",
       "2014-09-19 00:00:00+00:00    394.795990\n",
       "2014-09-20 00:00:00+00:00    408.903992\n",
       "2014-09-21 00:00:00+00:00    398.821014\n",
       "...                                 ...\n",
       "2023-02-09 00:00:00+00:00  21819.039062\n",
       "2023-02-10 00:00:00+00:00  21651.183594\n",
       "2023-02-11 00:00:00+00:00  21870.875000\n",
       "2023-02-12 00:00:00+00:00  21788.203125\n",
       "2023-02-13 00:00:00+00:00  21751.298828\n",
       "\n",
       "[3072 rows x 1 columns]"
      ]
     },
     "execution_count": 49,
     "metadata": {},
     "output_type": "execute_result"
    }
   ],
   "source": [
    "df.drop([\"Open\",\"High\",\"Low\",\"Volume\",\"Dividends\",\"Stock Splits\"],axis=1,inplace=True)\n",
    "df"
   ]
  },
  {
   "cell_type": "code",
   "execution_count": 50,
   "id": "fc48c28e",
   "metadata": {},
   "outputs": [],
   "source": [
    "# Add the year, month, and day columns to the dataframe\n",
    "df['Year'] = df.index.year\n",
    "df['Month'] = df.index.month\n",
    "df['Day'] = df.index.day"
   ]
  },
  {
   "cell_type": "code",
   "execution_count": 51,
   "id": "41fe4afd",
   "metadata": {},
   "outputs": [
    {
     "data": {
      "text/html": [
       "<div>\n",
       "<style scoped>\n",
       "    .dataframe tbody tr th:only-of-type {\n",
       "        vertical-align: middle;\n",
       "    }\n",
       "\n",
       "    .dataframe tbody tr th {\n",
       "        vertical-align: top;\n",
       "    }\n",
       "\n",
       "    .dataframe thead th {\n",
       "        text-align: right;\n",
       "    }\n",
       "</style>\n",
       "<table border=\"1\" class=\"dataframe\">\n",
       "  <thead>\n",
       "    <tr style=\"text-align: right;\">\n",
       "      <th></th>\n",
       "      <th>Close</th>\n",
       "      <th>Year</th>\n",
       "      <th>Month</th>\n",
       "      <th>Day</th>\n",
       "    </tr>\n",
       "    <tr>\n",
       "      <th>Date</th>\n",
       "      <th></th>\n",
       "      <th></th>\n",
       "      <th></th>\n",
       "      <th></th>\n",
       "    </tr>\n",
       "  </thead>\n",
       "  <tbody>\n",
       "    <tr>\n",
       "      <th>2014-09-17 00:00:00+00:00</th>\n",
       "      <td>457.334015</td>\n",
       "      <td>2014</td>\n",
       "      <td>9</td>\n",
       "      <td>17</td>\n",
       "    </tr>\n",
       "    <tr>\n",
       "      <th>2014-09-18 00:00:00+00:00</th>\n",
       "      <td>424.440002</td>\n",
       "      <td>2014</td>\n",
       "      <td>9</td>\n",
       "      <td>18</td>\n",
       "    </tr>\n",
       "    <tr>\n",
       "      <th>2014-09-19 00:00:00+00:00</th>\n",
       "      <td>394.795990</td>\n",
       "      <td>2014</td>\n",
       "      <td>9</td>\n",
       "      <td>19</td>\n",
       "    </tr>\n",
       "    <tr>\n",
       "      <th>2014-09-20 00:00:00+00:00</th>\n",
       "      <td>408.903992</td>\n",
       "      <td>2014</td>\n",
       "      <td>9</td>\n",
       "      <td>20</td>\n",
       "    </tr>\n",
       "    <tr>\n",
       "      <th>2014-09-21 00:00:00+00:00</th>\n",
       "      <td>398.821014</td>\n",
       "      <td>2014</td>\n",
       "      <td>9</td>\n",
       "      <td>21</td>\n",
       "    </tr>\n",
       "    <tr>\n",
       "      <th>...</th>\n",
       "      <td>...</td>\n",
       "      <td>...</td>\n",
       "      <td>...</td>\n",
       "      <td>...</td>\n",
       "    </tr>\n",
       "    <tr>\n",
       "      <th>2023-02-09 00:00:00+00:00</th>\n",
       "      <td>21819.039062</td>\n",
       "      <td>2023</td>\n",
       "      <td>2</td>\n",
       "      <td>9</td>\n",
       "    </tr>\n",
       "    <tr>\n",
       "      <th>2023-02-10 00:00:00+00:00</th>\n",
       "      <td>21651.183594</td>\n",
       "      <td>2023</td>\n",
       "      <td>2</td>\n",
       "      <td>10</td>\n",
       "    </tr>\n",
       "    <tr>\n",
       "      <th>2023-02-11 00:00:00+00:00</th>\n",
       "      <td>21870.875000</td>\n",
       "      <td>2023</td>\n",
       "      <td>2</td>\n",
       "      <td>11</td>\n",
       "    </tr>\n",
       "    <tr>\n",
       "      <th>2023-02-12 00:00:00+00:00</th>\n",
       "      <td>21788.203125</td>\n",
       "      <td>2023</td>\n",
       "      <td>2</td>\n",
       "      <td>12</td>\n",
       "    </tr>\n",
       "    <tr>\n",
       "      <th>2023-02-13 00:00:00+00:00</th>\n",
       "      <td>21751.298828</td>\n",
       "      <td>2023</td>\n",
       "      <td>2</td>\n",
       "      <td>13</td>\n",
       "    </tr>\n",
       "  </tbody>\n",
       "</table>\n",
       "<p>3072 rows × 4 columns</p>\n",
       "</div>"
      ],
      "text/plain": [
       "                                  Close  Year  Month  Day\n",
       "Date                                                     \n",
       "2014-09-17 00:00:00+00:00    457.334015  2014      9   17\n",
       "2014-09-18 00:00:00+00:00    424.440002  2014      9   18\n",
       "2014-09-19 00:00:00+00:00    394.795990  2014      9   19\n",
       "2014-09-20 00:00:00+00:00    408.903992  2014      9   20\n",
       "2014-09-21 00:00:00+00:00    398.821014  2014      9   21\n",
       "...                                 ...   ...    ...  ...\n",
       "2023-02-09 00:00:00+00:00  21819.039062  2023      2    9\n",
       "2023-02-10 00:00:00+00:00  21651.183594  2023      2   10\n",
       "2023-02-11 00:00:00+00:00  21870.875000  2023      2   11\n",
       "2023-02-12 00:00:00+00:00  21788.203125  2023      2   12\n",
       "2023-02-13 00:00:00+00:00  21751.298828  2023      2   13\n",
       "\n",
       "[3072 rows x 4 columns]"
      ]
     },
     "execution_count": 51,
     "metadata": {},
     "output_type": "execute_result"
    }
   ],
   "source": [
    "df"
   ]
  },
  {
   "cell_type": "markdown",
   "id": "c0090488",
   "metadata": {},
   "source": [
    "# Data visualization"
   ]
  },
  {
   "cell_type": "code",
   "execution_count": 70,
   "id": "3a002095",
   "metadata": {
    "id": "3a002095",
    "scrolled": true
   },
   "outputs": [
    {
     "data": {
      "image/png": "[encoded data removed]",
      "text/plain": [
       "<Figure size 720x288 with 1 Axes>"
      ]
     },
     "metadata": {
      "needs_background": "light"
     },
     "output_type": "display_data"
    }
   ],
   "source": [
    "df.dropna()\n",
    "plt.figure(figsize=(10, 4))\n",
    "plt.title(\"bitcoin Price USD\")\n",
    "plt.xlabel(\"Date\")\n",
    "plt.ylabel(\"Close\")\n",
    "plt.plot(df[\"Close\"])\n",
    "plt.show()"
   ]
  },
  {
   "cell_type": "code",
   "execution_count": 71,
   "id": "492d3275",
   "metadata": {},
   "outputs": [],
   "source": [
    "#Splitting the dataset\n",
    "X = df.drop( ['Close'], axis = 1)\n",
    "Y = df['Close']"
   ]
  },
  {
   "cell_type": "code",
   "execution_count": 55,
   "id": "fbdf81d0",
   "metadata": {},
   "outputs": [
    {
     "name": "stdout",
     "output_type": "stream",
     "text": [
      "<class 'pandas.core.frame.DataFrame'>\n",
      "DatetimeIndex: 3072 entries, 2014-09-17 00:00:00+00:00 to 2023-02-13 00:00:00+00:00\n",
      "Data columns (total 3 columns):\n",
      " #   Column  Non-Null Count  Dtype\n",
      "---  ------  --------------  -----\n",
      " 0   Year    3072 non-null   int64\n",
      " 1   Month   3072 non-null   int64\n",
      " 2   Day     3072 non-null   int64\n",
      "dtypes: int64(3)\n",
      "memory usage: 96.0 KB\n"
     ]
    }
   ],
   "source": [
    "X.info()"
   ]
  },
  {
   "cell_type": "code",
   "execution_count": 57,
   "id": "6ec37350",
   "metadata": {},
   "outputs": [
    {
     "name": "stdout",
     "output_type": "stream",
     "text": [
      "<class 'pandas.core.series.Series'>\n",
      "DatetimeIndex: 3072 entries, 2014-09-17 00:00:00+00:00 to 2023-02-13 00:00:00+00:00\n",
      "Series name: Close\n",
      "Non-Null Count  Dtype  \n",
      "--------------  -----  \n",
      "3072 non-null   float64\n",
      "dtypes: float64(1)\n",
      "memory usage: 48.0 KB\n"
     ]
    }
   ],
   "source": [
    "Y.info()"
   ]
  },
  {
   "cell_type": "code",
   "execution_count": 59,
   "id": "1740844f",
   "metadata": {},
   "outputs": [],
   "source": [
    "#Splitting the data as the trainning & testing as 70-30\n",
    "X_train, X_test, y_train, y_test = train_test_split(X, Y, test_size = 0.3, random_state=2)"
   ]
  },
  {
   "cell_type": "code",
   "execution_count": 60,
   "id": "628f3ec9",
   "metadata": {},
   "outputs": [
    {
     "data": {
      "text/html": [
       "<div>\n",
       "<style scoped>\n",
       "    .dataframe tbody tr th:only-of-type {\n",
       "        vertical-align: middle;\n",
       "    }\n",
       "\n",
       "    .dataframe tbody tr th {\n",
       "        vertical-align: top;\n",
       "    }\n",
       "\n",
       "    .dataframe thead th {\n",
       "        text-align: right;\n",
       "    }\n",
       "</style>\n",
       "<table border=\"1\" class=\"dataframe\">\n",
       "  <thead>\n",
       "    <tr style=\"text-align: right;\">\n",
       "      <th></th>\n",
       "      <th>Year</th>\n",
       "      <th>Month</th>\n",
       "      <th>Day</th>\n",
       "    </tr>\n",
       "    <tr>\n",
       "      <th>Date</th>\n",
       "      <th></th>\n",
       "      <th></th>\n",
       "      <th></th>\n",
       "    </tr>\n",
       "  </thead>\n",
       "  <tbody>\n",
       "    <tr>\n",
       "      <th>2022-07-30 00:00:00+00:00</th>\n",
       "      <td>2022</td>\n",
       "      <td>7</td>\n",
       "      <td>30</td>\n",
       "    </tr>\n",
       "    <tr>\n",
       "      <th>2019-09-09 00:00:00+00:00</th>\n",
       "      <td>2019</td>\n",
       "      <td>9</td>\n",
       "      <td>9</td>\n",
       "    </tr>\n",
       "    <tr>\n",
       "      <th>2016-09-16 00:00:00+00:00</th>\n",
       "      <td>2016</td>\n",
       "      <td>9</td>\n",
       "      <td>16</td>\n",
       "    </tr>\n",
       "    <tr>\n",
       "      <th>2021-09-21 00:00:00+00:00</th>\n",
       "      <td>2021</td>\n",
       "      <td>9</td>\n",
       "      <td>21</td>\n",
       "    </tr>\n",
       "    <tr>\n",
       "      <th>2021-01-30 00:00:00+00:00</th>\n",
       "      <td>2021</td>\n",
       "      <td>1</td>\n",
       "      <td>30</td>\n",
       "    </tr>\n",
       "  </tbody>\n",
       "</table>\n",
       "</div>"
      ],
      "text/plain": [
       "                           Year  Month  Day\n",
       "Date                                       \n",
       "2022-07-30 00:00:00+00:00  2022      7   30\n",
       "2019-09-09 00:00:00+00:00  2019      9    9\n",
       "2016-09-16 00:00:00+00:00  2016      9   16\n",
       "2021-09-21 00:00:00+00:00  2021      9   21\n",
       "2021-01-30 00:00:00+00:00  2021      1   30"
      ]
     },
     "execution_count": 60,
     "metadata": {},
     "output_type": "execute_result"
    }
   ],
   "source": [
    "X_train.head()"
   ]
  },
  {
   "cell_type": "code",
   "execution_count": 62,
   "id": "46211e8a",
   "metadata": {},
   "outputs": [
    {
     "name": "stdout",
     "output_type": "stream",
     "text": [
      "(2150, 3)\n",
      "(2150,)\n",
      "(922, 3)\n",
      "(922,)\n"
     ]
    }
   ],
   "source": [
    "print(X_train.shape)\n",
    "print(y_train.shape)\n",
    "print(X_test.shape)\n",
    "print(y_test.shape)"
   ]
  },
  {
   "cell_type": "markdown",
   "id": "736abdc0",
   "metadata": {},
   "source": [
    "# Algorithms"
   ]
  },
  {
   "cell_type": "markdown",
   "id": "bbf4deed",
   "metadata": {},
   "source": [
    "# KNeighborsRegressor"
   ]
  },
  {
   "cell_type": "code",
   "execution_count": 74,
   "id": "1e6d2b5c",
   "metadata": {},
   "outputs": [
    {
     "name": "stdout",
     "output_type": "stream",
     "text": [
      "70640993.25932018\n",
      "0.7459780274038486\n"
     ]
    }
   ],
   "source": [
    "knr = KNeighborsRegressor(n_neighbors=2)\n",
    "knr.fit(X_train, y_train)\n",
    "y_pred_knr = knr.predict(X_test)\n",
    "mse_knr=metrics.mean_squared_error(y_test,y_pred_knr)\n",
    "print(mse_knr)\n",
    "r2knr = metrics.r2_score(y_test, y_pred_knr)\n",
    "print(r2knr)"
   ]
  },
  {
   "cell_type": "markdown",
   "id": "9a22f5c4",
   "metadata": {},
   "source": [
    "# RandomForestRegressor"
   ]
  },
  {
   "cell_type": "code",
   "execution_count": 65,
   "id": "0461ce72",
   "metadata": {},
   "outputs": [
    {
     "name": "stdout",
     "output_type": "stream",
     "text": [
      "876281.0139206419\n",
      "0.9968489311738931\n"
     ]
    }
   ],
   "source": [
    "rf = RandomForestRegressor()\n",
    "rf.fit(X_train,y_train)\n",
    "y_pred_rf = rf.predict(X_test)\n",
    "mse_rf=metrics.mean_squared_error(y_test,y_pred_rf)\n",
    "print(mse_rf)\n",
    "r2rf = metrics.r2_score(y_test, y_pred_rf)\n",
    "print(r2rf)"
   ]
  },
  {
   "cell_type": "markdown",
   "id": "e813fad8",
   "metadata": {},
   "source": [
    "# DecisionTreeRegressor"
   ]
  },
  {
   "cell_type": "code",
   "execution_count": 66,
   "id": "256350c9",
   "metadata": {},
   "outputs": [
    {
     "name": "stdout",
     "output_type": "stream",
     "text": [
      "1796675.292919455\n",
      "0.9935392329444355\n"
     ]
    }
   ],
   "source": [
    "dt =tree.DecisionTreeRegressor()\n",
    "dt.fit(X_train, y_train)\n",
    "y_pred_dt = dt.predict(X_test)\n",
    "mse_dt=metrics.mean_squared_error(y_test,y_pred_dt)\n",
    "print(mse_dt)\n",
    "r2dt = metrics.r2_score(y_test, y_pred_dt)\n",
    "print(r2dt)"
   ]
  },
  {
   "cell_type": "markdown",
   "id": "6c454dbf",
   "metadata": {},
   "source": [
    "# GradientBoostingRegressor"
   ]
  },
  {
   "cell_type": "code",
   "execution_count": 67,
   "id": "6a463601",
   "metadata": {},
   "outputs": [
    {
     "name": "stdout",
     "output_type": "stream",
     "text": [
      "6369795.281309764\n",
      "0.9770944902140305\n"
     ]
    }
   ],
   "source": [
    "gbr = GradientBoostingRegressor()\n",
    "gbr.fit(X_train, y_train)\n",
    "Y_pred_gbr = gbr.predict(X_test)\n",
    "mse_gbr=metrics.mean_squared_error(y_test,Y_pred_gbr)\n",
    "print(mse_gbr)\n",
    "r2gbr = metrics.r2_score(y_test, Y_pred_gbr)\n",
    "print(r2gbr)"
   ]
  },
  {
   "cell_type": "markdown",
   "id": "a7af7f11",
   "metadata": {},
   "source": [
    "# Finding the Best Model"
   ]
  },
  {
   "cell_type": "code",
   "execution_count": 72,
   "id": "0535c069",
   "metadata": {},
   "outputs": [
    {
     "name": "stdout",
     "output_type": "stream",
     "text": [
      "********** R2 score **********\n",
      "------------------------------\n",
      "K nearest neighbors:  0.7459780274038486\n",
      "K nearest neighbors:  70640993.25932018\n",
      "------------------------------\n",
      "------------------------------\n",
      "random forest:  0.9968489311738931\n",
      "random forest:  876281.0139206419\n",
      "------------------------------\n",
      "------------------------------\n",
      "decision tree:  0.9935392329444355\n",
      "decision tree:  1796675.292919455\n",
      "------------------------------\n",
      "------------------------------\n",
      "gradient boosting:  0.9770944902140305\n",
      "gradient boosting:  6369795.281309764\n",
      "------------------------------\n"
     ]
    }
   ],
   "source": [
    "print(\"*\"*10, \"R2 score\", \"*\"*10)\n",
    "\n",
    "print(\"-\"*30)\n",
    "print(\"K nearest neighbors: \", r2knr)\n",
    "print(\"K nearest neighbors: \",mse_knr)\n",
    "print(\"-\"*30)\n",
    "\n",
    "\n",
    "print(\"-\"*30)\n",
    "print(\"random forest: \", r2rf)\n",
    "print(\"random forest: \",mse_rf)\n",
    "print(\"-\"*30)\n",
    "\n",
    "\n",
    "print(\"-\"*30)\n",
    "print(\"decision tree: \", r2dt)\n",
    "print(\"decision tree: \",mse_dt)\n",
    "print(\"-\"*30)\n",
    "\n",
    "\n",
    "print(\"-\"*30)\n",
    "print(\"gradient boosting: \", r2gbr)\n",
    "print(\"gradient boosting: \",mse_gbr)\n",
    "print(\"-\"*30)"
   ]
  },
  {
   "cell_type": "markdown",
   "id": "5f6c2bba",
   "metadata": {},
   "source": [
    "# The Best Model To Predict these Data is RandomForestRegressor"
   ]
  },
  {
   "cell_type": "code",
   "execution_count": 73,
   "id": "d00a0ddb",
   "metadata": {},
   "outputs": [
    {
     "data": {
      "text/plain": [
       "array([21798.59554687])"
      ]
     },
     "execution_count": 73,
     "metadata": {},
     "output_type": "execute_result"
    }
   ],
   "source": [
    "rf.predict([[2023,2,13]])"
   ]
  },
  {
   "cell_type": "code",
   "execution_count": null,
   "id": "a7538be9",
   "metadata": {},
   "outputs": [],
   "source": []
  },
  {
   "cell_type": "code",
   "execution_count": null,
   "id": "912ee6b7",
   "metadata": {},
   "outputs": [],
   "source": []
  },
  {
   "cell_type": "code",
   "execution_count": null,
   "id": "905e9be6",
   "metadata": {},
   "outputs": [],
   "source": []
  }
 ],
 "metadata": {
  "colab": {
   "provenance": []
  },
  "kernelspec": {
   "display_name": "Python 3 (ipykernel)",
   "language": "python",
   "name": "python3"
  },
  "language_info": {
   "codemirror_mode": {
    "name": "ipython",
    "version": 3
   },
   "file_extension": ".py",
   "mimetype": "text/x-python",
   "name": "python",
   "nbconvert_exporter": "python",
   "pygments_lexer": "ipython3",
   "version": "3.9.12"
  }
 },
 "nbformat": 4,
 "nbformat_minor": 5
}
