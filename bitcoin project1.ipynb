{
 "cells": [
  {
   "cell_type": "code",
   "execution_count": 24,
   "id": "62c5a523",
   "metadata": {},
   "outputs": [
    {
     "name": "stdout",
     "output_type": "stream",
     "text": [
      "Requirement already satisfied: xgboost in c:\\users\\adminpc\\anaconda3\\lib\\site-packages (1.7.3)\n",
      "Requirement already satisfied: numpy in c:\\users\\adminpc\\anaconda3\\lib\\site-packages (from xgboost) (1.22.4)\n",
      "Requirement already satisfied: scipy in c:\\users\\adminpc\\anaconda3\\lib\\site-packages (from xgboost) (1.7.3)\n",
      "Note: you may need to restart the kernel to use updated packages.\n"
     ]
    }
   ],
   "source": [
    "pip install xgboost"
   ]
  },
  {
   "cell_type": "code",
   "execution_count": 25,
   "id": "5799ee46",
   "metadata": {},
   "outputs": [],
   "source": [
    "import yfinance as yf\n",
    "import numpy as np\n",
    "import pandas as pd\n",
    "import matplotlib.pyplot as plt\n",
    "from sklearn.model_selection import train_test_split\n",
    "from sklearn.linear_model import LinearRegression\n",
    "from sklearn.tree import DecisionTreeRegressor\n",
    "from sklearn.ensemble import RandomForestRegressor\n",
    "import xgboost as xgb\n",
    "from sklearn.metrics import mean_squared_error, mean_absolute_error, r2_score"
   ]
  },
  {
   "cell_type": "code",
   "execution_count": 26,
   "id": "e1f51412",
   "metadata": {},
   "outputs": [
    {
     "data": {
      "text/html": [
       "<div>\n",
       "<style scoped>\n",
       "    .dataframe tbody tr th:only-of-type {\n",
       "        vertical-align: middle;\n",
       "    }\n",
       "\n",
       "    .dataframe tbody tr th {\n",
       "        vertical-align: top;\n",
       "    }\n",
       "\n",
       "    .dataframe thead th {\n",
       "        text-align: right;\n",
       "    }\n",
       "</style>\n",
       "<table border=\"1\" class=\"dataframe\">\n",
       "  <thead>\n",
       "    <tr style=\"text-align: right;\">\n",
       "      <th></th>\n",
       "      <th>Open</th>\n",
       "      <th>High</th>\n",
       "      <th>Low</th>\n",
       "      <th>Close</th>\n",
       "      <th>Volume</th>\n",
       "      <th>Dividends</th>\n",
       "      <th>Stock Splits</th>\n",
       "    </tr>\n",
       "    <tr>\n",
       "      <th>Date</th>\n",
       "      <th></th>\n",
       "      <th></th>\n",
       "      <th></th>\n",
       "      <th></th>\n",
       "      <th></th>\n",
       "      <th></th>\n",
       "      <th></th>\n",
       "    </tr>\n",
       "  </thead>\n",
       "  <tbody>\n",
       "    <tr>\n",
       "      <th>2014-09-17 00:00:00+00:00</th>\n",
       "      <td>465.864014</td>\n",
       "      <td>468.174011</td>\n",
       "      <td>452.421997</td>\n",
       "      <td>457.334015</td>\n",
       "      <td>21056800</td>\n",
       "      <td>0.0</td>\n",
       "      <td>0.0</td>\n",
       "    </tr>\n",
       "    <tr>\n",
       "      <th>2014-09-18 00:00:00+00:00</th>\n",
       "      <td>456.859985</td>\n",
       "      <td>456.859985</td>\n",
       "      <td>413.104004</td>\n",
       "      <td>424.440002</td>\n",
       "      <td>34483200</td>\n",
       "      <td>0.0</td>\n",
       "      <td>0.0</td>\n",
       "    </tr>\n",
       "    <tr>\n",
       "      <th>2014-09-19 00:00:00+00:00</th>\n",
       "      <td>424.102997</td>\n",
       "      <td>427.834991</td>\n",
       "      <td>384.532013</td>\n",
       "      <td>394.795990</td>\n",
       "      <td>37919700</td>\n",
       "      <td>0.0</td>\n",
       "      <td>0.0</td>\n",
       "    </tr>\n",
       "    <tr>\n",
       "      <th>2014-09-20 00:00:00+00:00</th>\n",
       "      <td>394.673004</td>\n",
       "      <td>423.295990</td>\n",
       "      <td>389.882996</td>\n",
       "      <td>408.903992</td>\n",
       "      <td>36863600</td>\n",
       "      <td>0.0</td>\n",
       "      <td>0.0</td>\n",
       "    </tr>\n",
       "    <tr>\n",
       "      <th>2014-09-21 00:00:00+00:00</th>\n",
       "      <td>408.084991</td>\n",
       "      <td>412.425995</td>\n",
       "      <td>393.181000</td>\n",
       "      <td>398.821014</td>\n",
       "      <td>26580100</td>\n",
       "      <td>0.0</td>\n",
       "      <td>0.0</td>\n",
       "    </tr>\n",
       "    <tr>\n",
       "      <th>...</th>\n",
       "      <td>...</td>\n",
       "      <td>...</td>\n",
       "      <td>...</td>\n",
       "      <td>...</td>\n",
       "      <td>...</td>\n",
       "      <td>...</td>\n",
       "      <td>...</td>\n",
       "    </tr>\n",
       "    <tr>\n",
       "      <th>2023-02-02 00:00:00+00:00</th>\n",
       "      <td>23720.824219</td>\n",
       "      <td>24167.210938</td>\n",
       "      <td>23468.595703</td>\n",
       "      <td>23471.871094</td>\n",
       "      <td>32066936882</td>\n",
       "      <td>0.0</td>\n",
       "      <td>0.0</td>\n",
       "    </tr>\n",
       "    <tr>\n",
       "      <th>2023-02-03 00:00:00+00:00</th>\n",
       "      <td>23469.412109</td>\n",
       "      <td>23678.103516</td>\n",
       "      <td>23279.955078</td>\n",
       "      <td>23449.322266</td>\n",
       "      <td>27083066007</td>\n",
       "      <td>0.0</td>\n",
       "      <td>0.0</td>\n",
       "    </tr>\n",
       "    <tr>\n",
       "      <th>2023-02-04 00:00:00+00:00</th>\n",
       "      <td>23446.320312</td>\n",
       "      <td>23556.949219</td>\n",
       "      <td>23291.794922</td>\n",
       "      <td>23331.847656</td>\n",
       "      <td>15639298538</td>\n",
       "      <td>0.0</td>\n",
       "      <td>0.0</td>\n",
       "    </tr>\n",
       "    <tr>\n",
       "      <th>2023-02-05 00:00:00+00:00</th>\n",
       "      <td>23332.248047</td>\n",
       "      <td>23423.435547</td>\n",
       "      <td>22841.759766</td>\n",
       "      <td>22955.666016</td>\n",
       "      <td>19564262605</td>\n",
       "      <td>0.0</td>\n",
       "      <td>0.0</td>\n",
       "    </tr>\n",
       "    <tr>\n",
       "      <th>2023-02-06 00:00:00+00:00</th>\n",
       "      <td>22959.066406</td>\n",
       "      <td>23078.000000</td>\n",
       "      <td>22734.601562</td>\n",
       "      <td>22885.308594</td>\n",
       "      <td>21633386496</td>\n",
       "      <td>0.0</td>\n",
       "      <td>0.0</td>\n",
       "    </tr>\n",
       "  </tbody>\n",
       "</table>\n",
       "<p>3065 rows × 7 columns</p>\n",
       "</div>"
      ],
      "text/plain": [
       "                                   Open          High           Low  \\\n",
       "Date                                                                  \n",
       "2014-09-17 00:00:00+00:00    465.864014    468.174011    452.421997   \n",
       "2014-09-18 00:00:00+00:00    456.859985    456.859985    413.104004   \n",
       "2014-09-19 00:00:00+00:00    424.102997    427.834991    384.532013   \n",
       "2014-09-20 00:00:00+00:00    394.673004    423.295990    389.882996   \n",
       "2014-09-21 00:00:00+00:00    408.084991    412.425995    393.181000   \n",
       "...                                 ...           ...           ...   \n",
       "2023-02-02 00:00:00+00:00  23720.824219  24167.210938  23468.595703   \n",
       "2023-02-03 00:00:00+00:00  23469.412109  23678.103516  23279.955078   \n",
       "2023-02-04 00:00:00+00:00  23446.320312  23556.949219  23291.794922   \n",
       "2023-02-05 00:00:00+00:00  23332.248047  23423.435547  22841.759766   \n",
       "2023-02-06 00:00:00+00:00  22959.066406  23078.000000  22734.601562   \n",
       "\n",
       "                                  Close       Volume  Dividends  Stock Splits  \n",
       "Date                                                                           \n",
       "2014-09-17 00:00:00+00:00    457.334015     21056800        0.0           0.0  \n",
       "2014-09-18 00:00:00+00:00    424.440002     34483200        0.0           0.0  \n",
       "2014-09-19 00:00:00+00:00    394.795990     37919700        0.0           0.0  \n",
       "2014-09-20 00:00:00+00:00    408.903992     36863600        0.0           0.0  \n",
       "2014-09-21 00:00:00+00:00    398.821014     26580100        0.0           0.0  \n",
       "...                                 ...          ...        ...           ...  \n",
       "2023-02-02 00:00:00+00:00  23471.871094  32066936882        0.0           0.0  \n",
       "2023-02-03 00:00:00+00:00  23449.322266  27083066007        0.0           0.0  \n",
       "2023-02-04 00:00:00+00:00  23331.847656  15639298538        0.0           0.0  \n",
       "2023-02-05 00:00:00+00:00  22955.666016  19564262605        0.0           0.0  \n",
       "2023-02-06 00:00:00+00:00  22885.308594  21633386496        0.0           0.0  \n",
       "\n",
       "[3065 rows x 7 columns]"
      ]
     },
     "execution_count": 26,
     "metadata": {},
     "output_type": "execute_result"
    }
   ],
   "source": [
    "# Get the data\n",
    "btc = yf.Ticker(\"BTC-USD\")\n",
    "df = btc.history(period=\"max\")\n",
    "df"
   ]
  },
  {
   "cell_type": "code",
   "execution_count": 27,
   "id": "22008e2b",
   "metadata": {
    "scrolled": true
   },
   "outputs": [
    {
     "data": {
      "text/html": [
       "<div>\n",
       "<style scoped>\n",
       "    .dataframe tbody tr th:only-of-type {\n",
       "        vertical-align: middle;\n",
       "    }\n",
       "\n",
       "    .dataframe tbody tr th {\n",
       "        vertical-align: top;\n",
       "    }\n",
       "\n",
       "    .dataframe thead th {\n",
       "        text-align: right;\n",
       "    }\n",
       "</style>\n",
       "<table border=\"1\" class=\"dataframe\">\n",
       "  <thead>\n",
       "    <tr style=\"text-align: right;\">\n",
       "      <th></th>\n",
       "      <th>Open</th>\n",
       "      <th>High</th>\n",
       "      <th>Low</th>\n",
       "      <th>Close</th>\n",
       "      <th>Volume</th>\n",
       "      <th>Dividends</th>\n",
       "      <th>Stock Splits</th>\n",
       "    </tr>\n",
       "  </thead>\n",
       "  <tbody>\n",
       "    <tr>\n",
       "      <th>count</th>\n",
       "      <td>3065.000000</td>\n",
       "      <td>3065.000000</td>\n",
       "      <td>3065.000000</td>\n",
       "      <td>3065.000000</td>\n",
       "      <td>3.065000e+03</td>\n",
       "      <td>3065.0</td>\n",
       "      <td>3065.0</td>\n",
       "    </tr>\n",
       "    <tr>\n",
       "      <th>mean</th>\n",
       "      <td>12951.572564</td>\n",
       "      <td>13276.577218</td>\n",
       "      <td>12590.682623</td>\n",
       "      <td>12957.346263</td>\n",
       "      <td>1.641853e+10</td>\n",
       "      <td>0.0</td>\n",
       "      <td>0.0</td>\n",
       "    </tr>\n",
       "    <tr>\n",
       "      <th>std</th>\n",
       "      <td>16117.081570</td>\n",
       "      <td>16528.747151</td>\n",
       "      <td>15641.894873</td>\n",
       "      <td>16112.983373</td>\n",
       "      <td>1.988277e+10</td>\n",
       "      <td>0.0</td>\n",
       "      <td>0.0</td>\n",
       "    </tr>\n",
       "    <tr>\n",
       "      <th>min</th>\n",
       "      <td>176.897003</td>\n",
       "      <td>211.731003</td>\n",
       "      <td>171.509995</td>\n",
       "      <td>178.102997</td>\n",
       "      <td>5.914570e+06</td>\n",
       "      <td>0.0</td>\n",
       "      <td>0.0</td>\n",
       "    </tr>\n",
       "    <tr>\n",
       "      <th>25%</th>\n",
       "      <td>690.289001</td>\n",
       "      <td>705.257019</td>\n",
       "      <td>678.039978</td>\n",
       "      <td>694.468994</td>\n",
       "      <td>1.063630e+08</td>\n",
       "      <td>0.0</td>\n",
       "      <td>0.0</td>\n",
       "    </tr>\n",
       "    <tr>\n",
       "      <th>50%</th>\n",
       "      <td>7208.636719</td>\n",
       "      <td>7367.330078</td>\n",
       "      <td>7038.124512</td>\n",
       "      <td>7217.427246</td>\n",
       "      <td>7.775128e+09</td>\n",
       "      <td>0.0</td>\n",
       "      <td>0.0</td>\n",
       "    </tr>\n",
       "    <tr>\n",
       "      <th>75%</th>\n",
       "      <td>17129.710938</td>\n",
       "      <td>17579.599609</td>\n",
       "      <td>16877.880859</td>\n",
       "      <td>17133.152344</td>\n",
       "      <td>2.788198e+10</td>\n",
       "      <td>0.0</td>\n",
       "      <td>0.0</td>\n",
       "    </tr>\n",
       "    <tr>\n",
       "      <th>max</th>\n",
       "      <td>67549.734375</td>\n",
       "      <td>68789.625000</td>\n",
       "      <td>66382.062500</td>\n",
       "      <td>67566.828125</td>\n",
       "      <td>3.509679e+11</td>\n",
       "      <td>0.0</td>\n",
       "      <td>0.0</td>\n",
       "    </tr>\n",
       "  </tbody>\n",
       "</table>\n",
       "</div>"
      ],
      "text/plain": [
       "               Open          High           Low         Close        Volume  \\\n",
       "count   3065.000000   3065.000000   3065.000000   3065.000000  3.065000e+03   \n",
       "mean   12951.572564  13276.577218  12590.682623  12957.346263  1.641853e+10   \n",
       "std    16117.081570  16528.747151  15641.894873  16112.983373  1.988277e+10   \n",
       "min      176.897003    211.731003    171.509995    178.102997  5.914570e+06   \n",
       "25%      690.289001    705.257019    678.039978    694.468994  1.063630e+08   \n",
       "50%     7208.636719   7367.330078   7038.124512   7217.427246  7.775128e+09   \n",
       "75%    17129.710938  17579.599609  16877.880859  17133.152344  2.788198e+10   \n",
       "max    67549.734375  68789.625000  66382.062500  67566.828125  3.509679e+11   \n",
       "\n",
       "       Dividends  Stock Splits  \n",
       "count     3065.0        3065.0  \n",
       "mean         0.0           0.0  \n",
       "std          0.0           0.0  \n",
       "min          0.0           0.0  \n",
       "25%          0.0           0.0  \n",
       "50%          0.0           0.0  \n",
       "75%          0.0           0.0  \n",
       "max          0.0           0.0  "
      ]
     },
     "execution_count": 27,
     "metadata": {},
     "output_type": "execute_result"
    }
   ],
   "source": [
    "df.describe()"
   ]
  },
  {
   "cell_type": "code",
   "execution_count": 28,
   "id": "cde26420",
   "metadata": {},
   "outputs": [
    {
     "data": {
      "image/png": "[encoded data removed]",
      "text/plain": [
       "<Figure size 1080x360 with 1 Axes>"
      ]
     },
     "metadata": {
      "needs_background": "light"
     },
     "output_type": "display_data"
    }
   ],
   "source": [
    "#Exploratory Data Analysis\n",
    "plt.figure(figsize=(15, 5))\n",
    "plt.plot(df['Close'])\n",
    "plt.title('Bitcoin Close price.', fontsize=15)\n",
    "plt.ylabel('Price in dollars.')\n",
    "plt.show()"
   ]
  },
  {
   "cell_type": "code",
   "execution_count": 29,
   "id": "c7c5830e",
   "metadata": {},
   "outputs": [
    {
     "name": "stdout",
     "output_type": "stream",
     "text": [
      "<class 'pandas.core.frame.DataFrame'>\n",
      "DatetimeIndex: 3065 entries, 2014-09-17 00:00:00+00:00 to 2023-02-06 00:00:00+00:00\n",
      "Data columns (total 7 columns):\n",
      " #   Column        Non-Null Count  Dtype  \n",
      "---  ------        --------------  -----  \n",
      " 0   Open          3065 non-null   float64\n",
      " 1   High          3065 non-null   float64\n",
      " 2   Low           3065 non-null   float64\n",
      " 3   Close         3065 non-null   float64\n",
      " 4   Volume        3065 non-null   int64  \n",
      " 5   Dividends     3065 non-null   float64\n",
      " 6   Stock Splits  3065 non-null   float64\n",
      "dtypes: float64(6), int64(1)\n",
      "memory usage: 191.6 KB\n"
     ]
    }
   ],
   "source": [
    "df.info()"
   ]
  },
  {
   "cell_type": "code",
   "execution_count": 30,
   "id": "c258e28f",
   "metadata": {},
   "outputs": [],
   "source": [
    "# Preprocess the data\n",
    "df = df.dropna()"
   ]
  },
  {
   "cell_type": "code",
   "execution_count": 31,
   "id": "e7dc46fa",
   "metadata": {},
   "outputs": [],
   "source": [
    "# Split the data into training and testing sets\n",
    "X = df.drop('Close', axis=1)\n",
    "y = df['Close']\n",
    "X_train, X_test, y_train, y_test = train_test_split(X, y, test_size=0.2, random_state=0)"
   ]
  },
  {
   "cell_type": "code",
   "execution_count": 32,
   "id": "3d0a42ef",
   "metadata": {},
   "outputs": [
    {
     "data": {
      "text/plain": [
       "LinearRegression()"
      ]
     },
     "execution_count": 32,
     "metadata": {},
     "output_type": "execute_result"
    }
   ],
   "source": [
    "# Train linear regression model\n",
    "regressor = LinearRegression()\n",
    "regressor.fit(X_train, y_train)"
   ]
  },
  {
   "cell_type": "code",
   "execution_count": 33,
   "id": "99683544",
   "metadata": {},
   "outputs": [
    {
     "data": {
      "text/plain": [
       "DecisionTreeRegressor(random_state=0)"
      ]
     },
     "execution_count": 33,
     "metadata": {},
     "output_type": "execute_result"
    }
   ],
   "source": [
    "# Train decision tree model\n",
    "dt_regressor = DecisionTreeRegressor(random_state=0)\n",
    "dt_regressor.fit(X_train, y_train)"
   ]
  },
  {
   "cell_type": "code",
   "execution_count": 34,
   "id": "25a9955b",
   "metadata": {},
   "outputs": [
    {
     "data": {
      "text/plain": [
       "RandomForestRegressor(random_state=0)"
      ]
     },
     "execution_count": 34,
     "metadata": {},
     "output_type": "execute_result"
    }
   ],
   "source": [
    "# Train random forest model\n",
    "rf_regressor = RandomForestRegressor(n_estimators=100, random_state=0)\n",
    "rf_regressor.fit(X_train, y_train)"
   ]
  },
  {
   "cell_type": "code",
   "execution_count": 35,
   "id": "1a80dcf4",
   "metadata": {},
   "outputs": [
    {
     "data": {
      "text/plain": [
       "XGBRegressor(base_score=None, booster=None, callbacks=None,\n",
       "             colsample_bylevel=None, colsample_bynode=None,\n",
       "             colsample_bytree=None, early_stopping_rounds=None,\n",
       "             enable_categorical=False, eval_metric=None, feature_types=None,\n",
       "             gamma=None, gpu_id=None, grow_policy=None, importance_type=None,\n",
       "             interaction_constraints=None, learning_rate=None, max_bin=None,\n",
       "             max_cat_threshold=None, max_cat_to_onehot=None,\n",
       "             max_delta_step=None, max_depth=None, max_leaves=None,\n",
       "             min_child_weight=None, missing=nan, monotone_constraints=None,\n",
       "             n_estimators=100, n_jobs=None, num_parallel_tree=None,\n",
       "             predictor=None, random_state=0, ...)"
      ]
     },
     "execution_count": 35,
     "metadata": {},
     "output_type": "execute_result"
    }
   ],
   "source": [
    "# Train XGBoost model\n",
    "xgb_regressor = xgb.XGBRegressor(objective='reg:squarederror', random_state=0)\n",
    "xgb_regressor.fit(X_train, y_train)"
   ]
  },
  {
   "cell_type": "code",
   "execution_count": 36,
   "id": "466b7664",
   "metadata": {},
   "outputs": [],
   "source": [
    "# Evaluate each model\n",
    "reg_pred = regressor.predict(X_test)\n",
    "dt_pred = dt_regressor.predict(X_test)\n",
    "rf_pred = rf_regressor.predict(X_test)\n",
    "xgb_pred = xgb_regressor.predict(X_test)\n"
   ]
  },
  {
   "cell_type": "code",
   "execution_count": 37,
   "id": "cabe15f0",
   "metadata": {},
   "outputs": [],
   "source": [
    "reg_mse = mean_squared_error(y_test, reg_pred)\n",
    "dt_mse = mean_squared_error(y_test, dt_pred)\n",
    "rf_mse = mean_squared_error(y_test, rf_pred)\n",
    "xgb_mse = mean_squared_error(y_test, xgb_pred)"
   ]
  },
  {
   "cell_type": "code",
   "execution_count": 38,
   "id": "729017ae",
   "metadata": {},
   "outputs": [],
   "source": [
    "# Select the best model based on MSE\n",
    "best_model = None\n",
    "best_mse = float('inf')\n",
    "if reg_mse < best_mse:\n",
    "    best_model = regressor\n",
    "    best_mse = reg_mse\n",
    "if dt_mse < best_mse:\n",
    "    best_model = dt_regressor\n",
    "    best_mse = dt_mse\n",
    "if rf_mse < best_mse:\n",
    "    best_model = rf_regressor\n",
    "    best_mse = rf_mse\n",
    "if xgb_mse < best_mse:\n",
    "    best_model = xgb_regressor\n",
    "    best_mse = xgb_mse"
   ]
  },
  {
   "cell_type": "code",
   "execution_count": 39,
   "id": "5995d4bd",
   "metadata": {},
   "outputs": [
    {
     "name": "stdout",
     "output_type": "stream",
     "text": [
      "Linear Regression MSE: 86435.52341917907\n",
      "Decision Tree Regressor MSE: 270905.5566414183\n",
      "Random Forest Regressor MSE: 181499.5701625944\n",
      "XGBoost Regressor MSE: 246041.5635594646\n"
     ]
    }
   ],
   "source": [
    "#Print the MSE of each model\n",
    "print(f\"Linear Regression MSE: {reg_mse}\")\n",
    "print(f\"Decision Tree Regressor MSE: {dt_mse}\")\n",
    "print(f\"Random Forest Regressor MSE: {rf_mse}\")\n",
    "print(f\"XGBoost Regressor MSE: {xgb_mse}\")"
   ]
  },
  {
   "cell_type": "code",
   "execution_count": 40,
   "id": "95f01d4a",
   "metadata": {},
   "outputs": [
    {
     "name": "stdout",
     "output_type": "stream",
     "text": [
      "\n",
      "Predicted Output: 6414.555577735523\n"
     ]
    },
    {
     "name": "stderr",
     "output_type": "stream",
     "text": [
      "C:\\Users\\AdminPC\\anaconda3\\lib\\site-packages\\sklearn\\base.py:450: UserWarning: X does not have valid feature names, but LinearRegression was fitted with feature names\n",
      "  warnings.warn(\n"
     ]
    }
   ],
   "source": [
    "#Predict the next value using the best model\n",
    "new_input = X_test.iloc[-1, :].values.reshape(1, -1) # last row of X_test as new input\n",
    "new_output = best_model.predict(new_input)\n",
    "print(f\"\\nPredicted Output: {new_output[0]}\")"
   ]
  },
  {
   "cell_type": "code",
   "execution_count": 41,
   "id": "fa2a181c",
   "metadata": {},
   "outputs": [
    {
     "name": "stdout",
     "output_type": "stream",
     "text": [
      "\n",
      "Mean Absolute Error: 134.55455708805454\n",
      "R2 Score: 0.9996445777099604\n"
     ]
    }
   ],
   "source": [
    "#Evaluate the best model using mean absolute error and R2 score\n",
    "y_pred = best_model.predict(X_test)\n",
    "mae = mean_absolute_error(y_test, y_pred)\n",
    "r2 = r2_score(y_test, y_pred)\n",
    "print(f\"\\nMean Absolute Error: {mae}\")\n",
    "print(f\"R2 Score: {r2}\")"
   ]
  },
  {
   "cell_type": "code",
   "execution_count": 42,
   "id": "3c61ab80",
   "metadata": {},
   "outputs": [
    {
     "name": "stdout",
     "output_type": "stream",
     "text": [
      "R^2 score of the selected model: 0.9996445777099604\n"
     ]
    }
   ],
   "source": [
    "#Get the accuracy of the selected model\n",
    "r2_score_best = r2_score(y_test, best_model.predict(X_test))\n",
    "print(f\"R^2 score of the selected model: {r2_score_best}\")"
   ]
  },
  {
   "cell_type": "code",
   "execution_count": 47,
   "id": "94a18795",
   "metadata": {},
   "outputs": [
    {
     "name": "stdout",
     "output_type": "stream",
     "text": [
      "Predicted close price for the next day: 22818.56008294058\n"
     ]
    },
    {
     "name": "stderr",
     "output_type": "stream",
     "text": [
      "C:\\Users\\AdminPC\\anaconda3\\lib\\site-packages\\sklearn\\base.py:450: UserWarning: X does not have valid feature names, but LinearRegression was fitted with feature names\n",
      "  warnings.warn(\n"
     ]
    }
   ],
   "source": [
    "#Predict the close price of the next day\n",
    "next_day_input = df.iloc[-1].drop('Close')\n",
    "next_day_pred = best_model.predict(np.array(next_day_input).reshape(1, -1))\n",
    "print(f\"Predicted close price for the next day: {next_day_pred[0]}\")"
   ]
  },
  {
   "cell_type": "code",
   "execution_count": 48,
   "id": "d5a23bf9",
   "metadata": {},
   "outputs": [
    {
     "data": {
      "image/png": "[encoded data removed]",
      "text/plain": [
       "<Figure size 432x288 with 1 Axes>"
      ]
     },
     "metadata": {
      "needs_background": "light"
     },
     "output_type": "display_data"
    }
   ],
   "source": [
    "# Plot the predicted vs actual values for the best model\n",
    "plt.scatter(y_test, best_model.predict(X_test))\n",
    "plt.xlabel(\"Actual values\")\n",
    "plt.ylabel(\"Predicted values\")\n",
    "plt.title(\"Predicted vs Actual Values for the Best Model\")\n",
    "plt.show()"
   ]
  },
  {
   "cell_type": "code",
   "execution_count": 49,
   "id": "a335f9cd",
   "metadata": {},
   "outputs": [
    {
     "data": {
      "image/png": "[encoded data removed]",
      "text/plain": [
       "<Figure size 432x288 with 1 Axes>"
      ]
     },
     "metadata": {
      "needs_background": "light"
     },
     "output_type": "display_data"
    }
   ],
   "source": [
    "# Plot the predicted vs actual values for each model\n",
    "plt.scatter(y_test, reg_pred, c='blue', label='Linear Regression')\n",
    "plt.scatter(y_test, dt_pred, c='red', label='Decision Tree')\n",
    "plt.scatter(y_test, rf_pred, c='green', label='Random Forest')\n",
    "plt.scatter(y_test, xgb_pred, c='purple', label='XGBoost')\n",
    "plt.plot(y_test, y_test, c='black', linestyle='--')\n",
    "plt.xlabel('Actual Value')\n",
    "plt.ylabel('Predicted Value')\n",
    "plt.legend()\n",
    "plt.show()"
   ]
  },
  {
   "cell_type": "code",
   "execution_count": null,
   "id": "8459daa7",
   "metadata": {},
   "outputs": [],
   "source": []
  },
  {
   "cell_type": "code",
   "execution_count": 50,
   "id": "48b97d8f",
   "metadata": {},
   "outputs": [
    {
     "data": {
      "image/png": "[encoded data removed]",
      "text/plain": [
       "<Figure size 432x288 with 1 Axes>"
      ]
     },
     "metadata": {
      "needs_background": "light"
     },
     "output_type": "display_data"
    }
   ],
   "source": [
    "# Plot the residuals for the best model\n",
    "residuals = y_test - best_model.predict(X_test)\n",
    "plt.hist(residuals, bins=50)\n",
    "plt.xlabel(\"Residuals\")\n",
    "plt.ylabel(\"Count\")\n",
    "plt.title(\"Histogram of Residuals for the Best Model\")\n",
    "plt.show()"
   ]
  },
  {
   "cell_type": "code",
   "execution_count": null,
   "id": "eaa17e8f",
   "metadata": {},
   "outputs": [],
   "source": []
  },
  {
   "cell_type": "code",
   "execution_count": null,
   "id": "c4e345c7",
   "metadata": {},
   "outputs": [],
   "source": []
  }
 ],
 "metadata": {
  "kernelspec": {
   "display_name": "Python 3 (ipykernel)",
   "language": "python",
   "name": "python3"
  },
  "language_info": {
   "codemirror_mode": {
    "name": "ipython",
    "version": 3
   },
   "file_extension": ".py",
   "mimetype": "text/x-python",
   "name": "python",
   "nbconvert_exporter": "python",
   "pygments_lexer": "ipython3",
   "version": "3.9.12"
  }
 },
 "nbformat": 4,
 "nbformat_minor": 5
}
